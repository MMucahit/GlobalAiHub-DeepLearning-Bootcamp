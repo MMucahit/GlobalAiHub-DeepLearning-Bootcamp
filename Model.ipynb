{
  "cells": [
    {
      "cell_type": "code",
      "execution_count": null,
      "metadata": {
        "colab": {
          "base_uri": "https://localhost:8080/",
          "height": 35
        },
        "id": "c2TwGOq8Dm3j",
        "outputId": "d81b4943-0008-4f9f-b25e-babfa967aa3c"
      },
      "outputs": [],
      "source": [
        "import tensorflow as tf\n",
        "tf.test.gpu_device_name()"
      ]
    },
    {
      "cell_type": "code",
      "execution_count": null,
      "metadata": {
        "colab": {
          "base_uri": "https://localhost:8080/"
        },
        "id": "2mkl9RnUD24v",
        "outputId": "30da6852-f138-404a-c7e6-4162ddbc07b2"
      },
      "outputs": [],
      "source": [
        "from tensorflow.python.client import device_lib\n",
        "device_lib.list_local_devices()"
      ]
    },
    {
      "cell_type": "code",
      "execution_count": 2,
      "metadata": {
        "colab": {
          "base_uri": "https://localhost:8080/"
        },
        "id": "iysprSKIEaG1",
        "outputId": "c5f4c471-3d79-48ef-a074-f5af9a42d2bc"
      },
      "outputs": [
        {
          "name": "stdout",
          "output_type": "stream",
          "text": [
            "Found 8732 files belonging to 10 classes.\n",
            "Using 6986 files for training.\n",
            "Found 8732 files belonging to 10 classes.\n",
            "Using 1746 files for validation.\n",
            " \n",
            "Batches for training --> tf.Tensor(219, shape=(), dtype=int64)\n",
            " \n",
            "Batches for validating --> tf.Tensor(40, shape=(), dtype=int64)\n",
            " \n",
            "Batches for testing --> tf.Tensor(15, shape=(), dtype=int64)\n",
            "Model: \"sequential_3\"\n",
            "_________________________________________________________________\n",
            " Layer (type)                Output Shape              Param #   \n",
            "=================================================================\n",
            " sequential_2 (Sequential)   (None, 128, 128, 1)       0         \n",
            "                                                                 \n",
            " conv2d_8 (Conv2D)           (None, 126, 126, 32)      320       \n",
            "                                                                 \n",
            " conv2d_9 (Conv2D)           (None, 124, 124, 32)      9248      \n",
            "                                                                 \n",
            " max_pooling2d_4 (MaxPooling  (None, 62, 62, 32)       0         \n",
            " 2D)                                                             \n",
            "                                                                 \n",
            " conv2d_10 (Conv2D)          (None, 60, 60, 32)        9248      \n",
            "                                                                 \n",
            " conv2d_11 (Conv2D)          (None, 58, 58, 32)        9248      \n",
            "                                                                 \n",
            " max_pooling2d_5 (MaxPooling  (None, 29, 29, 32)       0         \n",
            " 2D)                                                             \n",
            "                                                                 \n",
            " conv2d_12 (Conv2D)          (None, 27, 27, 16)        4624      \n",
            "                                                                 \n",
            " conv2d_13 (Conv2D)          (None, 25, 25, 16)        2320      \n",
            "                                                                 \n",
            " max_pooling2d_6 (MaxPooling  (None, 12, 12, 16)       0         \n",
            " 2D)                                                             \n",
            "                                                                 \n",
            " conv2d_14 (Conv2D)          (None, 10, 10, 16)        2320      \n",
            "                                                                 \n",
            " conv2d_15 (Conv2D)          (None, 8, 8, 16)          2320      \n",
            "                                                                 \n",
            " max_pooling2d_7 (MaxPooling  (None, 4, 4, 16)         0         \n",
            " 2D)                                                             \n",
            "                                                                 \n",
            " flatten_1 (Flatten)         (None, 256)               0         \n",
            "                                                                 \n",
            " dense_3 (Dense)             (None, 256)               65792     \n",
            "                                                                 \n",
            " dense_4 (Dense)             (None, 128)               32896     \n",
            "                                                                 \n",
            " dense_5 (Dense)             (None, 10)                1290      \n",
            "                                                                 \n",
            "=================================================================\n",
            "Total params: 139,626\n",
            "Trainable params: 139,626\n",
            "Non-trainable params: 0\n",
            "_________________________________________________________________\n",
            "Epoch 1/30\n",
            "219/219 [==============================] - ETA: 0s - loss: 1.6534 - accuracy: 0.3936\n",
            "Epoch 1: val_accuracy improved from -inf to 0.51501, saving model to model.h5\n",
            "219/219 [==============================] - 19s 72ms/step - loss: 1.6534 - accuracy: 0.3936 - val_loss: 1.3083 - val_accuracy: 0.5150 - lr: 0.0010\n",
            "Epoch 2/30\n",
            "218/219 [============================>.] - ETA: 0s - loss: 1.1806 - accuracy: 0.5765\n",
            "Epoch 2: val_accuracy improved from 0.51501 to 0.64376, saving model to model.h5\n",
            "219/219 [==============================] - 15s 69ms/step - loss: 1.1803 - accuracy: 0.5764 - val_loss: 1.0584 - val_accuracy: 0.6438 - lr: 0.0010\n",
            "Epoch 3/30\n",
            "218/219 [============================>.] - ETA: 0s - loss: 0.9242 - accuracy: 0.6740\n",
            "Epoch 3: val_accuracy improved from 0.64376 to 0.71406, saving model to model.h5\n",
            "219/219 [==============================] - 16s 71ms/step - loss: 0.9244 - accuracy: 0.6739 - val_loss: 0.8817 - val_accuracy: 0.7141 - lr: 0.0010\n",
            "Epoch 4/30\n",
            "218/219 [============================>.] - ETA: 0s - loss: 0.7834 - accuracy: 0.7205\n",
            "Epoch 4: val_accuracy improved from 0.71406 to 0.75118, saving model to model.h5\n",
            "219/219 [==============================] - 16s 73ms/step - loss: 0.7832 - accuracy: 0.7206 - val_loss: 0.7679 - val_accuracy: 0.7512 - lr: 0.0010\n",
            "Epoch 5/30\n",
            "218/219 [============================>.] - ETA: 0s - loss: 0.6485 - accuracy: 0.7739\n",
            "Epoch 5: val_accuracy did not improve from 0.75118\n",
            "219/219 [==============================] - 17s 75ms/step - loss: 0.6479 - accuracy: 0.7741 - val_loss: 0.9169 - val_accuracy: 0.7133 - lr: 0.0010\n",
            "Epoch 6/30\n",
            "218/219 [============================>.] - ETA: 0s - loss: 0.5612 - accuracy: 0.8062\n",
            "Epoch 6: val_accuracy improved from 0.75118 to 0.80490, saving model to model.h5\n",
            "219/219 [==============================] - 17s 76ms/step - loss: 0.5608 - accuracy: 0.8063 - val_loss: 0.6186 - val_accuracy: 0.8049 - lr: 0.0010\n",
            "Epoch 7/30\n",
            "218/219 [============================>.] - ETA: 0s - loss: 0.4879 - accuracy: 0.8258\n",
            "Epoch 7: val_accuracy did not improve from 0.80490\n",
            "219/219 [==============================] - 17s 75ms/step - loss: 0.4877 - accuracy: 0.8258 - val_loss: 0.7647 - val_accuracy: 0.7867 - lr: 0.0010\n",
            "Epoch 8/30\n",
            "218/219 [============================>.] - ETA: 0s - loss: 0.4460 - accuracy: 0.8443\n",
            "Epoch 8: val_accuracy did not improve from 0.80490\n",
            "219/219 [==============================] - 16s 73ms/step - loss: 0.4460 - accuracy: 0.8443 - val_loss: 0.7571 - val_accuracy: 0.7725 - lr: 0.0010\n",
            "Epoch 9/30\n",
            "218/219 [============================>.] - ETA: 0s - loss: 0.3632 - accuracy: 0.8716\n",
            "Epoch 9: val_accuracy did not improve from 0.80490\n",
            "219/219 [==============================] - 16s 73ms/step - loss: 0.3629 - accuracy: 0.8717 - val_loss: 0.7604 - val_accuracy: 0.7867 - lr: 0.0010\n",
            "Epoch 10/30\n",
            "218/219 [============================>.] - ETA: 0s - loss: 0.3136 - accuracy: 0.8872\n",
            "Epoch 10: val_accuracy improved from 0.80490 to 0.81833, saving model to model.h5\n",
            "219/219 [==============================] - 16s 74ms/step - loss: 0.3139 - accuracy: 0.8872 - val_loss: 0.7046 - val_accuracy: 0.8183 - lr: 0.0010\n",
            "Epoch 11/30\n",
            "218/219 [============================>.] - ETA: 0s - loss: 0.2863 - accuracy: 0.8976\n",
            "Epoch 11: val_accuracy improved from 0.81833 to 0.82148, saving model to model.h5\n",
            "219/219 [==============================] - 16s 73ms/step - loss: 0.2862 - accuracy: 0.8977 - val_loss: 0.6460 - val_accuracy: 0.8215 - lr: 0.0010\n",
            "Epoch 12/30\n",
            "218/219 [============================>.] - ETA: 0s - loss: 0.1528 - accuracy: 0.9503\n",
            "Epoch 12: val_accuracy improved from 0.82148 to 0.84518, saving model to model.h5\n",
            "219/219 [==============================] - 16s 73ms/step - loss: 0.1528 - accuracy: 0.9503 - val_loss: 0.6113 - val_accuracy: 0.8452 - lr: 1.0000e-04\n",
            "Epoch 13/30\n",
            "218/219 [============================>.] - ETA: 0s - loss: 0.1075 - accuracy: 0.9656\n",
            "Epoch 13: val_accuracy improved from 0.84518 to 0.84597, saving model to model.h5\n",
            "219/219 [==============================] - 16s 73ms/step - loss: 0.1078 - accuracy: 0.9655 - val_loss: 0.6612 - val_accuracy: 0.8460 - lr: 1.0000e-04\n",
            "Epoch 14/30\n",
            "218/219 [============================>.] - ETA: 0s - loss: 0.0909 - accuracy: 0.9706\n",
            "Epoch 14: val_accuracy improved from 0.84597 to 0.84676, saving model to model.h5\n",
            "219/219 [==============================] - 16s 74ms/step - loss: 0.0910 - accuracy: 0.9705 - val_loss: 0.6933 - val_accuracy: 0.8468 - lr: 1.0000e-04\n",
            "Epoch 15/30\n",
            "218/219 [============================>.] - ETA: 0s - loss: 0.0774 - accuracy: 0.9758\n",
            "Epoch 15: val_accuracy did not improve from 0.84676\n",
            "219/219 [==============================] - 16s 73ms/step - loss: 0.0773 - accuracy: 0.9758 - val_loss: 0.7573 - val_accuracy: 0.8420 - lr: 1.0000e-04\n",
            "Epoch 16/30\n",
            "218/219 [============================>.] - ETA: 0s - loss: 0.0654 - accuracy: 0.9796\n",
            "Epoch 16: val_accuracy did not improve from 0.84676\n",
            "219/219 [==============================] - 16s 72ms/step - loss: 0.0654 - accuracy: 0.9797 - val_loss: 0.7753 - val_accuracy: 0.8452 - lr: 1.0000e-04\n",
            "Epoch 17/30\n",
            "218/219 [============================>.] - ETA: 0s - loss: 0.0553 - accuracy: 0.9839\n",
            "Epoch 17: val_accuracy did not improve from 0.84676\n",
            "219/219 [==============================] - 16s 72ms/step - loss: 0.0555 - accuracy: 0.9838 - val_loss: 0.8889 - val_accuracy: 0.8357 - lr: 1.0000e-04\n",
            "Epoch 18/30\n",
            "218/219 [============================>.] - ETA: 0s - loss: 0.0469 - accuracy: 0.9870\n",
            "Epoch 18: val_accuracy did not improve from 0.84676\n",
            "219/219 [==============================] - 16s 74ms/step - loss: 0.0468 - accuracy: 0.9870 - val_loss: 0.8482 - val_accuracy: 0.8420 - lr: 1.0000e-04\n",
            "Epoch 19/30\n",
            "218/219 [============================>.] - ETA: 0s - loss: 0.0399 - accuracy: 0.9894\n",
            "Epoch 19: val_accuracy did not improve from 0.84676\n",
            "219/219 [==============================] - 16s 72ms/step - loss: 0.0399 - accuracy: 0.9894 - val_loss: 0.9637 - val_accuracy: 0.8452 - lr: 1.0000e-04\n",
            "Epoch 19: early stopping\n"
          ]
        }
      ],
      "source": [
        "import tensorflow as tf\n",
        "from keras import Sequential\n",
        "from keras.layers import Conv2D, MaxPool2D, Dense, Flatten, InputLayer, Dropout\n",
        "from keras.callbacks import ModelCheckpoint, EarlyStopping, ReduceLROnPlateau\n",
        "\n",
        "batch_size = 32\n",
        "\n",
        "train_ds = tf.keras.preprocessing.image_dataset_from_directory(\n",
        "  r'C:\\Users\\NAS\\Desktop\\spectrograms',\n",
        "  color_mode='grayscale', ## Rgb to Grayscale\n",
        "  label_mode='categorical',\n",
        "  validation_split=0.2,\n",
        "  subset=\"training\",\n",
        "  seed=55,\n",
        "  image_size=(128, 128), ## Resize 0.3\n",
        "  batch_size=batch_size)\n",
        "\n",
        "val_ds = tf.keras.preprocessing.image_dataset_from_directory(\n",
        "  r'C:\\Users\\NAS\\Desktop\\spectrograms',\n",
        "  color_mode='grayscale',\n",
        "  label_mode='categorical',\n",
        "  validation_split=0.2,\n",
        "  subset=\"validation\",\n",
        "  seed=55,\n",
        "  image_size=(128, 128),\n",
        "  batch_size=batch_size)\n",
        "\n",
        "test_dataset = val_ds.take(15)\n",
        "val_ds = val_ds.skip(15)\n",
        "\n",
        "print(' ')\n",
        "print('Batches for training -->', train_ds.cardinality())\n",
        "print(' ')\n",
        "print('Batches for validating -->', val_ds.cardinality())\n",
        "print(' ')\n",
        "print('Batches for testing -->', test_dataset.cardinality())\n",
        "\n",
        "Rescale = Sequential([tf.keras.layers.Rescaling(1./255)]) ## Normalization\n",
        "\n",
        "model = Sequential([\n",
        "  InputLayer(input_shape=(128,128,1)), ## 390, 270\n",
        "  Rescale,\n",
        "  Conv2D(filters=32,kernel_size=(3,3),padding=\"valid\", activation=\"relu\"),\n",
        "  Conv2D(filters=32,kernel_size=(3,3),padding=\"valid\", activation=\"relu\"),\n",
        "  MaxPool2D(pool_size=(2,2),strides=(2,2)),\n",
        "  Conv2D(filters=32, kernel_size=(3,3), padding=\"valid\", activation=\"relu\"),\n",
        "  Conv2D(filters=32, kernel_size=(3,3), padding=\"valid\", activation=\"relu\"),\n",
        "  MaxPool2D(pool_size=(2,2),strides=(2,2)),\n",
        "  Conv2D(filters=16, kernel_size=(3,3), padding=\"valid\", activation=\"relu\"),\n",
        "  Conv2D(filters=16, kernel_size=(3,3), padding=\"valid\", activation=\"relu\"),\n",
        "  MaxPool2D(pool_size=(2,2),strides=(2,2)),\n",
        "  Conv2D(filters=16, kernel_size=(3,3), padding=\"valid\", activation=\"relu\"),\n",
        "  Conv2D(filters=16, kernel_size=(3,3), padding=\"valid\", activation=\"relu\"),\n",
        "  MaxPool2D(pool_size=(2,2),strides=(2,2)),\n",
        "  Flatten(),\n",
        "  Dense(units=256,activation=\"relu\"),\n",
        "  Dense(units=128,activation=\"relu\"),\n",
        "  Dense(units=10, activation=\"softmax\")\n",
        "])\n",
        "\n",
        "opt = tf.keras.optimizers.Adam(learning_rate=0.001)\n",
        "\n",
        "model.compile(optimizer=opt,\n",
        "              loss='categorical_crossentropy',\n",
        "              metrics=['accuracy'])\n",
        "\n",
        "model.summary()\n",
        "\n",
        "checkpoint = ModelCheckpoint(\"model.h5\", monitor='val_accuracy', verbose=1, save_best_only=True, save_weights_only=True, mode='auto') ## Save best model\n",
        "\n",
        "early = EarlyStopping(monitor='val_accuracy', min_delta=0, patience=5, verbose=1, mode='auto') ## Epoch and Accuracy Optimization\n",
        "\n",
        "rlrop = ReduceLROnPlateau(monitor='val_loss', factor=0.1, patience=5, min_lr=0.0001) ## Learning rate Optimization\n",
        "\n",
        "hist = model.fit(train_ds, \n",
        "                validation_data= val_ds,\n",
        "                epochs=30,\n",
        "                callbacks=[checkpoint,early,rlrop])"
      ]
    },
    {
      "cell_type": "code",
      "execution_count": 3,
      "metadata": {
        "id": "8OZWcMqRFAXf"
      },
      "outputs": [
        {
          "name": "stdout",
          "output_type": "stream",
          "text": [
            "dict_keys(['loss', 'accuracy', 'val_loss', 'val_accuracy', 'lr'])\n"
          ]
        },
        {
          "data": {
            "image/png": "[encoded data removed]",
            "text/plain": [
              "<Figure size 432x288 with 1 Axes>"
            ]
          },
          "metadata": {
            "needs_background": "light"
          },
          "output_type": "display_data"
        },
        {
          "data": {
            "image/png": "[encoded data removed]",
            "text/plain": [
              "<Figure size 432x288 with 1 Axes>"
            ]
          },
          "metadata": {
            "needs_background": "light"
          },
          "output_type": "display_data"
        }
      ],
      "source": [
        "import matplotlib.pyplot as plt\n",
        "\n",
        "print(hist.history.keys())\n",
        "# summarize history for accuracy\n",
        "plt.plot(hist.history['accuracy'])\n",
        "plt.plot(hist.history['val_accuracy'])\n",
        "plt.title('model accuracy')\n",
        "plt.ylabel('accuracy')\n",
        "plt.xlabel('epoch')\n",
        "plt.legend(['train', 'test'], loc='upper left')\n",
        "plt.show()\n",
        "# summarize history for loss\n",
        "plt.plot(hist.history['loss'])\n",
        "plt.plot(hist.history['val_loss'])\n",
        "plt.title('model loss')\n",
        "plt.ylabel('loss')\n",
        "plt.xlabel('epoch')\n",
        "plt.legend(['train', 'test'], loc='upper left')\n",
        "plt.show()"
      ]
    },
    {
      "cell_type": "code",
      "execution_count": 64,
      "metadata": {},
      "outputs": [
        {
          "name": "stdout",
          "output_type": "stream",
          "text": [
            "15/15 [==============================] - 1s 29ms/step - loss: 0.9273 - accuracy: 0.8479\n",
            "Accuracy 0.8479166626930237\n"
          ]
        }
      ],
      "source": [
        "loss, acc = model.evaluate(test_dataset)\n",
        "print(\"Accuracy\", acc)"
      ]
    }
  ],
  "metadata": {
    "accelerator": "GPU",
    "colab": {
      "collapsed_sections": [],
      "provenance": []
    },
    "kernelspec": {
      "display_name": "Python 3.6.8 64-bit",
      "language": "python",
      "name": "python3"
    },
    "language_info": {
      "codemirror_mode": {
        "name": "ipython",
        "version": 3
      },
      "file_extension": ".py",
      "mimetype": "text/x-python",
      "name": "python",
      "nbconvert_exporter": "python",
      "pygments_lexer": "ipython3",
      "version": "3.6.8"
    },
    "vscode": {
      "interpreter": {
        "hash": "911787ed98255efa09ccfca05f44d6d3427ad539b86aeedb320d612443d3af57"
      }
    }
  },
  "nbformat": 4,
  "nbformat_minor": 0
}
