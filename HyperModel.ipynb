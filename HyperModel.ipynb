{
 "cells": [
  {
   "cell_type": "code",
   "execution_count": 1,
   "metadata": {},
   "outputs": [
    {
     "name": "stdout",
     "output_type": "stream",
     "text": [
      "Found 8732 files belonging to 10 classes.\n",
      "Using 6986 files for training.\n",
      "Found 8732 files belonging to 10 classes.\n",
      "Using 1746 files for validation.\n",
      " \n",
      "Batches for training --> tf.Tensor(219, shape=(), dtype=int64)\n",
      " \n",
      "Batches for validating --> tf.Tensor(40, shape=(), dtype=int64)\n",
      " \n",
      "Batches for testing --> tf.Tensor(15, shape=(), dtype=int64)\n",
      "Search space summary\n",
      "Default search space size: 3\n",
      "units (Int)\n",
      "{'default': None, 'conditions': [], 'min_value': 128, 'max_value': 512, 'step': 128, 'sampling': None}\n",
      "optimizer (Choice)\n",
      "{'default': 'adam', 'conditions': [], 'values': ['adam', 'SGD', 'rmsprop'], 'ordered': False}\n",
      "learning_rate (Choice)\n",
      "{'default': 0.001, 'conditions': [], 'values': [0.001], 'ordered': True}\n"
     ]
    }
   ],
   "source": [
    "import tensorflow as tf\n",
    "import keras_tuner\n",
    "from keras import Sequential, Model\n",
    "from keras.utils import plot_model\n",
    "from keras.layers import Conv2D, MaxPool2D, Dense, Flatten, InputLayer, Activation, Rescaling\n",
    "from keras.callbacks import ModelCheckpoint, EarlyStopping\n",
    "\n",
    "def build_model(hp):\n",
    "    model = Sequential()\n",
    "    model.add(InputLayer(input_shape=(128,128,1))), ## 390, 270\n",
    "    model.add(Rescaling(1. / 255)),\n",
    "    model.add(Conv2D(filters=32,kernel_size=(3,3),padding=\"valid\", activation=\"relu\")),\n",
    "    model.add(Conv2D(filters=32,kernel_size=(3,3),padding=\"valid\", activation=\"relu\")),\n",
    "    model.add(MaxPool2D(pool_size=(2,2),strides=(2,2))),\n",
    "    model.add(Conv2D(filters=32, kernel_size=(3,3), padding=\"valid\", activation=\"relu\")),\n",
    "    model.add(Conv2D(filters=32, kernel_size=(3,3), padding=\"valid\", activation=\"relu\")),\n",
    "    model.add(MaxPool2D(pool_size=(2,2),strides=(2,2))),\n",
    "    model.add(Conv2D(filters=16, kernel_size=(3,3), padding=\"valid\", activation=\"relu\")),\n",
    "    model.add(Conv2D(filters=16, kernel_size=(3,3), padding=\"valid\", activation=\"relu\")),\n",
    "    model.add(MaxPool2D(pool_size=(2,2),strides=(2,2))),\n",
    "    model.add(Conv2D(filters=16, kernel_size=(3,3), padding=\"valid\", activation=\"relu\")),\n",
    "    model.add(Conv2D(filters=16, kernel_size=(3,3), padding=\"valid\", activation=\"relu\")),\n",
    "    model.add(MaxPool2D(pool_size=(2,2),strides=(2,2))),\n",
    "    model.add(Flatten())\n",
    "    model.add(Dense(units=256,activation=\"relu\"))\n",
    "    model.add(Dense(units=hp.Int(\"units\", min_value=128, max_value=512, step=128), activation=\"relu\"))\n",
    "    model.add(Dense(10, activation=\"softmax\"))\n",
    "\n",
    "    hp_optimizer = hp.Choice('optimizer', values=['adam', 'SGD', 'rmsprop'])\n",
    "    optimizer = tf.keras.optimizers.get(hp_optimizer)\n",
    "\n",
    "    optimizer.learning_rate = hp.Choice(\"learning_rate\", [0.001])\n",
    "\n",
    "    model.compile(optimizer=optimizer, loss=\"categorical_crossentropy\", metrics=[\"accuracy\"],)\n",
    "\n",
    "    return model\n",
    "\n",
    "build_model(keras_tuner.HyperParameters())\n",
    "\n",
    "tuner = keras_tuner.RandomSearch(\n",
    "    hypermodel=build_model,\n",
    "    objective=\"val_accuracy\",\n",
    "    max_trials=10,\n",
    "    directory=r\"C:\\Users\\NAS\\Desktop\\spectrograms\",\n",
    "    project_name=\"keras_trial\",\n",
    ")\n",
    "\n",
    "tuner.search_space_summary()"
   ]
  },
  {
   "cell_type": "code",
   "execution_count": 2,
   "metadata": {},
   "outputs": [
    {
     "name": "stdout",
     "output_type": "stream",
     "text": [
      "Trial 10 Complete [00h 04m 53s]\n",
      "val_accuracy: 0.8009478449821472\n",
      "\n",
      "Best val_accuracy So Far: 0.8285939693450928\n",
      "Total elapsed time: 00h 45m 42s\n",
      "INFO:tensorflow:Oracle triggered exit\n"
     ]
    }
   ],
   "source": [
    "%run preprocessing.ipynb\n",
    "train_ds, val_ds, test_dataset = data('C:\\\\Users\\\\Madao\\\\Desktop\\\\spectrograms', batch_size=32, image_size=(128,128), test_size=15, validation_split=.2)\n",
    "\n",
    "tuner.search(train_ds, epochs=15, validation_data=val_ds)"
   ]
  },
  {
   "cell_type": "code",
   "execution_count": 4,
   "metadata": {},
   "outputs": [
    {
     "name": "stdout",
     "output_type": "stream",
     "text": [
      "Model: \"sequential\"\n",
      "_________________________________________________________________\n",
      " Layer (type)                Output Shape              Param #   \n",
      "=================================================================\n",
      " rescaling (Rescaling)       (None, 128, 128, 1)       0         \n",
      "                                                                 \n",
      " conv2d (Conv2D)             (None, 126, 126, 32)      320       \n",
      "                                                                 \n",
      " conv2d_1 (Conv2D)           (None, 124, 124, 32)      9248      \n",
      "                                                                 \n",
      " max_pooling2d (MaxPooling2D  (None, 62, 62, 32)       0         \n",
      " )                                                               \n",
      "                                                                 \n",
      " conv2d_2 (Conv2D)           (None, 60, 60, 32)        9248      \n",
      "                                                                 \n",
      " conv2d_3 (Conv2D)           (None, 58, 58, 32)        9248      \n",
      "                                                                 \n",
      " max_pooling2d_1 (MaxPooling  (None, 29, 29, 32)       0         \n",
      " 2D)                                                             \n",
      "                                                                 \n",
      " conv2d_4 (Conv2D)           (None, 27, 27, 16)        4624      \n",
      "                                                                 \n",
      " conv2d_5 (Conv2D)           (None, 25, 25, 16)        2320      \n",
      "                                                                 \n",
      " max_pooling2d_2 (MaxPooling  (None, 12, 12, 16)       0         \n",
      " 2D)                                                             \n",
      "                                                                 \n",
      " conv2d_6 (Conv2D)           (None, 10, 10, 16)        2320      \n",
      "                                                                 \n",
      " conv2d_7 (Conv2D)           (None, 8, 8, 16)          2320      \n",
      "                                                                 \n",
      " max_pooling2d_3 (MaxPooling  (None, 4, 4, 16)         0         \n",
      " 2D)                                                             \n",
      "                                                                 \n",
      " flatten (Flatten)           (None, 256)               0         \n",
      "                                                                 \n",
      " dense (Dense)               (None, 256)               65792     \n",
      "                                                                 \n",
      " dense_1 (Dense)             (None, 512)               131584    \n",
      "                                                                 \n",
      " dense_2 (Dense)             (None, 10)                5130      \n",
      "                                                                 \n",
      "=================================================================\n",
      "Total params: 242,154\n",
      "Trainable params: 242,154\n",
      "Non-trainable params: 0\n",
      "_________________________________________________________________\n",
      "Results summary\n",
      "Results in C:\\Users\\NAS\\Desktop\\spectrograms\\keras_trial\n",
      "Showing 10 best trials\n",
      "<keras_tuner.engine.objective.Objective object at 0x0000026AAB56A230>\n",
      "Trial summary\n",
      "Hyperparameters:\n",
      "units: 512\n",
      "optimizer: rmsprop\n",
      "learning_rate: 0.001\n",
      "Score: 0.8285939693450928\n",
      "Trial summary\n",
      "Hyperparameters:\n",
      "units: 384\n",
      "optimizer: rmsprop\n",
      "learning_rate: 0.001\n",
      "Score: 0.8222748637199402\n",
      "Trial summary\n",
      "Hyperparameters:\n",
      "units: 384\n",
      "optimizer: adam\n",
      "learning_rate: 0.001\n",
      "Score: 0.8214849829673767\n",
      "Trial summary\n",
      "Hyperparameters:\n",
      "units: 256\n",
      "optimizer: rmsprop\n",
      "learning_rate: 0.001\n",
      "Score: 0.8206951022148132\n",
      "Trial summary\n",
      "Hyperparameters:\n",
      "units: 128\n",
      "optimizer: rmsprop\n",
      "learning_rate: 0.001\n",
      "Score: 0.8159557580947876\n",
      "Trial summary\n",
      "Hyperparameters:\n",
      "units: 128\n",
      "optimizer: adam\n",
      "learning_rate: 0.001\n",
      "Score: 0.809636652469635\n",
      "Trial summary\n",
      "Hyperparameters:\n",
      "units: 256\n",
      "optimizer: adam\n",
      "learning_rate: 0.001\n",
      "Score: 0.8009478449821472\n",
      "Trial summary\n",
      "Hyperparameters:\n",
      "units: 512\n",
      "optimizer: adam\n",
      "learning_rate: 0.001\n",
      "Score: 0.7851500511169434\n",
      "Trial summary\n",
      "Hyperparameters:\n",
      "units: 256\n",
      "optimizer: SGD\n",
      "learning_rate: 0.001\n",
      "Score: 0.18088467419147491\n",
      "Trial summary\n",
      "Hyperparameters:\n",
      "units: 384\n",
      "optimizer: SGD\n",
      "learning_rate: 0.001\n",
      "Score: 0.17456555366516113\n"
     ]
    }
   ],
   "source": [
    "models = tuner.get_best_models(num_models=1)[0]\n",
    "\n",
    "models.build(input_shape=(128, 128))\n",
    "models.summary()\n",
    "\n",
    "tuner.results_summary()"
   ]
  },
  {
   "cell_type": "code",
   "execution_count": 7,
   "metadata": {},
   "outputs": [
    {
     "name": "stdout",
     "output_type": "stream",
     "text": [
      "Epoch 1/30\n",
      "218/219 [============================>.] - ETA: 0s - loss: 1.7563 - accuracy: 0.3561\n",
      "Epoch 1: val_accuracy improved from -inf to 0.49842, saving model to model.h5\n",
      "219/219 [==============================] - 16s 66ms/step - loss: 1.7563 - accuracy: 0.3563 - val_loss: 1.3765 - val_accuracy: 0.4984\n",
      "Epoch 2/30\n",
      "218/219 [============================>.] - ETA: 0s - loss: 1.2356 - accuracy: 0.5636\n",
      "Epoch 2: val_accuracy improved from 0.49842 to 0.57820, saving model to model.h5\n",
      "219/219 [==============================] - 15s 67ms/step - loss: 1.2352 - accuracy: 0.5637 - val_loss: 1.1480 - val_accuracy: 0.5782\n",
      "Epoch 3/30\n",
      "218/219 [============================>.] - ETA: 0s - loss: 1.0017 - accuracy: 0.6530\n",
      "Epoch 3: val_accuracy did not improve from 0.57820\n",
      "219/219 [==============================] - 15s 69ms/step - loss: 1.0026 - accuracy: 0.6527 - val_loss: 1.8448 - val_accuracy: 0.4597\n",
      "Epoch 4/30\n",
      "218/219 [============================>.] - ETA: 0s - loss: 0.8432 - accuracy: 0.7070\n",
      "Epoch 4: val_accuracy improved from 0.57820 to 0.66114, saving model to model.h5\n",
      "219/219 [==============================] - 16s 72ms/step - loss: 0.8429 - accuracy: 0.7071 - val_loss: 0.9603 - val_accuracy: 0.6611\n",
      "Epoch 5/30\n",
      "218/219 [============================>.] - ETA: 0s - loss: 0.7174 - accuracy: 0.7487\n",
      "Epoch 5: val_accuracy improved from 0.66114 to 0.73144, saving model to model.h5\n",
      "219/219 [==============================] - 17s 75ms/step - loss: 0.7171 - accuracy: 0.7486 - val_loss: 0.8350 - val_accuracy: 0.7314\n",
      "Epoch 6/30\n",
      "218/219 [============================>.] - ETA: 0s - loss: 0.6284 - accuracy: 0.7845\n",
      "Epoch 6: val_accuracy did not improve from 0.73144\n",
      "219/219 [==============================] - 17s 74ms/step - loss: 0.6280 - accuracy: 0.7847 - val_loss: 1.0016 - val_accuracy: 0.7062\n",
      "Epoch 7/30\n",
      "218/219 [============================>.] - ETA: 0s - loss: 0.5527 - accuracy: 0.8085\n",
      "Epoch 7: val_accuracy did not improve from 0.73144\n",
      "219/219 [==============================] - 17s 76ms/step - loss: 0.5532 - accuracy: 0.8083 - val_loss: 0.9483 - val_accuracy: 0.7243\n",
      "Epoch 8/30\n",
      "218/219 [============================>.] - ETA: 0s - loss: 0.4837 - accuracy: 0.8316\n",
      "Epoch 8: val_accuracy improved from 0.73144 to 0.76856, saving model to model.h5\n",
      "219/219 [==============================] - 17s 76ms/step - loss: 0.4837 - accuracy: 0.8317 - val_loss: 0.8484 - val_accuracy: 0.7686\n",
      "Epoch 9/30\n",
      "218/219 [============================>.] - ETA: 0s - loss: 0.4291 - accuracy: 0.8513\n",
      "Epoch 9: val_accuracy improved from 0.76856 to 0.79858, saving model to model.h5\n",
      "219/219 [==============================] - 17s 76ms/step - loss: 0.4286 - accuracy: 0.8514 - val_loss: 0.7089 - val_accuracy: 0.7986\n",
      "Epoch 10/30\n",
      "218/219 [============================>.] - ETA: 0s - loss: 0.3754 - accuracy: 0.8638\n",
      "Epoch 10: val_accuracy did not improve from 0.79858\n",
      "219/219 [==============================] - 17s 78ms/step - loss: 0.3753 - accuracy: 0.8639 - val_loss: 0.9964 - val_accuracy: 0.7709\n",
      "Epoch 11/30\n",
      "218/219 [============================>.] - ETA: 0s - loss: 0.3319 - accuracy: 0.8912\n",
      "Epoch 11: val_accuracy did not improve from 0.79858\n",
      "219/219 [==============================] - 17s 77ms/step - loss: 0.3317 - accuracy: 0.8912 - val_loss: 1.2056 - val_accuracy: 0.7567\n",
      "Epoch 12/30\n",
      "218/219 [============================>.] - ETA: 0s - loss: 0.3037 - accuracy: 0.8982\n",
      "Epoch 12: val_accuracy improved from 0.79858 to 0.80806, saving model to model.h5\n",
      "219/219 [==============================] - 18s 81ms/step - loss: 0.3035 - accuracy: 0.8984 - val_loss: 0.8004 - val_accuracy: 0.8081\n",
      "Epoch 13/30\n",
      "218/219 [============================>.] - ETA: 0s - loss: 0.2747 - accuracy: 0.9068\n",
      "Epoch 13: val_accuracy did not improve from 0.80806\n",
      "219/219 [==============================] - 22s 97ms/step - loss: 0.2750 - accuracy: 0.9067 - val_loss: 1.1314 - val_accuracy: 0.7559\n",
      "Epoch 14/30\n",
      "218/219 [============================>.] - ETA: 0s - loss: 0.2383 - accuracy: 0.9223\n",
      "Epoch 14: val_accuracy did not improve from 0.80806\n",
      "219/219 [==============================] - 21s 93ms/step - loss: 0.2383 - accuracy: 0.9221 - val_loss: 1.1370 - val_accuracy: 0.7559\n",
      "Epoch 15/30\n",
      "219/219 [==============================] - ETA: 0s - loss: 0.2225 - accuracy: 0.9247\n",
      "Epoch 15: val_accuracy did not improve from 0.80806\n",
      "219/219 [==============================] - 28s 125ms/step - loss: 0.2225 - accuracy: 0.9247 - val_loss: 1.0998 - val_accuracy: 0.8081\n",
      "Epoch 16/30\n",
      "218/219 [============================>.] - ETA: 0s - loss: 0.2013 - accuracy: 0.9333\n",
      "Epoch 16: val_accuracy improved from 0.80806 to 0.81596, saving model to model.h5\n",
      "219/219 [==============================] - 18s 80ms/step - loss: 0.2011 - accuracy: 0.9334 - val_loss: 1.0205 - val_accuracy: 0.8160\n",
      "Epoch 17/30\n",
      "218/219 [============================>.] - ETA: 0s - loss: 0.1819 - accuracy: 0.9401\n",
      "Epoch 17: val_accuracy did not improve from 0.81596\n",
      "219/219 [==============================] - 16s 71ms/step - loss: 0.1826 - accuracy: 0.9400 - val_loss: 1.3598 - val_accuracy: 0.7607\n",
      "Epoch 18/30\n",
      "218/219 [============================>.] - ETA: 0s - loss: 0.1738 - accuracy: 0.9428\n",
      "Epoch 18: val_accuracy did not improve from 0.81596\n",
      "219/219 [==============================] - 16s 73ms/step - loss: 0.1736 - accuracy: 0.9429 - val_loss: 1.2543 - val_accuracy: 0.8025\n",
      "Epoch 19/30\n",
      "218/219 [============================>.] - ETA: 0s - loss: 0.1784 - accuracy: 0.9445\n",
      "Epoch 19: val_accuracy did not improve from 0.81596\n",
      "219/219 [==============================] - 16s 73ms/step - loss: 0.1782 - accuracy: 0.9446 - val_loss: 1.1604 - val_accuracy: 0.8152\n",
      "Epoch 20/30\n",
      "218/219 [============================>.] - ETA: 0s - loss: 0.1509 - accuracy: 0.9498\n",
      "Epoch 20: val_accuracy improved from 0.81596 to 0.82227, saving model to model.h5\n",
      "219/219 [==============================] - 16s 74ms/step - loss: 0.1507 - accuracy: 0.9499 - val_loss: 1.1298 - val_accuracy: 0.8223\n",
      "Epoch 21/30\n",
      "218/219 [============================>.] - ETA: 0s - loss: 0.1419 - accuracy: 0.9534\n",
      "Epoch 21: val_accuracy did not improve from 0.82227\n",
      "219/219 [==============================] - 18s 83ms/step - loss: 0.1417 - accuracy: 0.9535 - val_loss: 1.3623 - val_accuracy: 0.7788\n",
      "Epoch 22/30\n",
      "218/219 [============================>.] - ETA: 0s - loss: 0.1427 - accuracy: 0.9536\n",
      "Epoch 22: val_accuracy did not improve from 0.82227\n",
      "219/219 [==============================] - 21s 92ms/step - loss: 0.1425 - accuracy: 0.9536 - val_loss: 1.2386 - val_accuracy: 0.8223\n",
      "Epoch 23/30\n",
      "218/219 [============================>.] - ETA: 0s - loss: 0.1384 - accuracy: 0.9577\n",
      "Epoch 23: val_accuracy did not improve from 0.82227\n",
      "219/219 [==============================] - 23s 103ms/step - loss: 0.1382 - accuracy: 0.9578 - val_loss: 1.3316 - val_accuracy: 0.8175\n",
      "Epoch 24/30\n",
      "218/219 [============================>.] - ETA: 0s - loss: 0.1403 - accuracy: 0.9561\n",
      "Epoch 24: val_accuracy did not improve from 0.82227\n",
      "219/219 [==============================] - 20s 87ms/step - loss: 0.1401 - accuracy: 0.9562 - val_loss: 1.3230 - val_accuracy: 0.8057\n",
      "Epoch 25/30\n",
      "218/219 [============================>.] - ETA: 0s - loss: 0.1279 - accuracy: 0.9617\n",
      "Epoch 25: val_accuracy did not improve from 0.82227\n",
      "219/219 [==============================] - 15s 69ms/step - loss: 0.1278 - accuracy: 0.9618 - val_loss: 1.4519 - val_accuracy: 0.8049\n",
      "Epoch 25: early stopping\n"
     ]
    }
   ],
   "source": [
    "checkpoint = ModelCheckpoint(\"model.h5\", monitor='val_accuracy', verbose=1, save_best_only=True, save_weights_only=True, mode='auto') ## Save best model\n",
    "\n",
    "early = EarlyStopping(monitor='val_accuracy', min_delta=0, patience=5, verbose=1, mode='auto') ## Epoch and Accuracy Optimization\n",
    "\n",
    "best_hps = tuner.get_best_hyperparameters()[0]\n",
    "model = tuner.hypermodel.build(best_hps)\n",
    "history = model.fit(train_ds, validation_data= val_ds, epochs=30, callbacks=[checkpoint, early])"
   ]
  },
  {
   "cell_type": "code",
   "execution_count": 8,
   "metadata": {},
   "outputs": [
    {
     "name": "stdout",
     "output_type": "stream",
     "text": [
      "dict_keys(['loss', 'accuracy', 'val_loss', 'val_accuracy'])\n"
     ]
    },
    {
     "data": {
      "image/png": "[encoded data removed]",
      "text/plain": [
       "<Figure size 432x288 with 1 Axes>"
      ]
     },
     "metadata": {
      "needs_background": "light"
     },
     "output_type": "display_data"
    },
    {
     "data": {
      "image/png": "[encoded data removed]",
      "text/plain": [
       "<Figure size 432x288 with 1 Axes>"
      ]
     },
     "metadata": {
      "needs_background": "light"
     },
     "output_type": "display_data"
    }
   ],
   "source": [
    "import matplotlib.pyplot as plt\n",
    "\n",
    "print(history.history.keys())\n",
    "# summarize history for accuracy\n",
    "plt.plot(history.history['accuracy'])\n",
    "plt.plot(history.history['val_accuracy'])\n",
    "plt.title('model accuracy')\n",
    "plt.ylabel('accuracy')\n",
    "plt.xlabel('epoch')\n",
    "plt.legend(['train', 'test'], loc='upper left')\n",
    "plt.show()\n",
    "# summarize history for loss\n",
    "plt.plot(history.history['loss'])\n",
    "plt.plot(history.history['val_loss'])\n",
    "plt.title('model loss')\n",
    "plt.ylabel('loss')\n",
    "plt.xlabel('epoch')\n",
    "plt.legend(['train', 'test'], loc='upper left')\n",
    "plt.show()"
   ]
  },
  {
   "cell_type": "code",
   "execution_count": 10,
   "metadata": {},
   "outputs": [
    {
     "name": "stdout",
     "output_type": "stream",
     "text": [
      "15/15 [==============================] - 1s 25ms/step - loss: 1.0061 - accuracy: 0.8333\n",
      "[test loss, test accuracy]: [1.00612211227417, 0.8333333134651184]\n"
     ]
    }
   ],
   "source": [
    "eval_result = model.evaluate(test_dataset)\n",
    "print(\"[test loss, test accuracy]:\", eval_result)"
   ]
  },
  {
   "cell_type": "code",
   "execution_count": null,
   "metadata": {},
   "outputs": [],
   "source": []
  }
 ],
 "metadata": {
  "kernelspec": {
   "display_name": "Python 3.6.8 64-bit",
   "language": "python",
   "name": "python3"
  },
  "language_info": {
   "codemirror_mode": {
    "name": "ipython",
    "version": 3
   },
   "file_extension": ".py",
   "mimetype": "text/x-python",
   "name": "python",
   "nbconvert_exporter": "python",
   "pygments_lexer": "ipython3",
   "version": "3.6.8"
  },
  "orig_nbformat": 4,
  "vscode": {
   "interpreter": {
    "hash": "911787ed98255efa09ccfca05f44d6d3427ad539b86aeedb320d612443d3af57"
   }
  }
 },
 "nbformat": 4,
 "nbformat_minor": 2
}
