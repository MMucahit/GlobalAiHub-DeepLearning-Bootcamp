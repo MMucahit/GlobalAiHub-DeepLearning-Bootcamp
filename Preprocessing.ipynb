{
 "cells": [
  {
   "cell_type": "code",
   "execution_count": 11,
   "metadata": {},
   "outputs": [],
   "source": [
    "def data(path, batch_size=32, image_size=None, test_size=None, validation_split=None):\n",
    "    import tensorflow as tf\n",
    "\n",
    "    train_ds = tf.keras.preprocessing.image_dataset_from_directory(\n",
    "    path,\n",
    "    color_mode='grayscale', ## Rgb to Grayscale\n",
    "    label_mode='categorical',\n",
    "    validation_split=validation_split,\n",
    "    subset=\"training\",\n",
    "    seed=55,\n",
    "    image_size=image_size, ## Resize\n",
    "    batch_size=batch_size)\n",
    "\n",
    "    val_ds = tf.keras.preprocessing.image_dataset_from_directory(\n",
    "    path,\n",
    "    color_mode='grayscale',\n",
    "    label_mode='categorical',\n",
    "    validation_split=validation_split,\n",
    "    subset=\"validation\",\n",
    "    seed=55,\n",
    "    image_size=image_size,\n",
    "    batch_size=batch_size)\n",
    "\n",
    "    test_dataset = val_ds.take(test_size)\n",
    "    val_ds = val_ds.skip(test_size)\n",
    "\n",
    "    print(' ')\n",
    "    print('Batches for training -->', train_ds.cardinality())\n",
    "    print(' ')\n",
    "    print('Batches for validating -->', val_ds.cardinality())\n",
    "    print(' ')\n",
    "    print('Batches for testing -->', test_dataset.cardinality())\n",
    "\n",
    "    train_ds = train_ds.prefetch(buffer_size=32)\n",
    "    val_ds = val_ds.prefetch(buffer_size=32)\n",
    "\n",
    "    return train_ds, val_ds, test_dataset"
   ]
  },
  {
   "cell_type": "code",
   "execution_count": 10,
   "metadata": {},
   "outputs": [
    {
     "name": "stdout",
     "output_type": "stream",
     "text": [
      "Found 8732 files belonging to 10 classes.\n",
      "Using 6986 files for training.\n",
      "Found 8732 files belonging to 10 classes.\n",
      "Using 1746 files for validation.\n",
      " \n",
      "Batches for training --> tf.Tensor(219, shape=(), dtype=int64)\n",
      " \n",
      "Batches for validating --> tf.Tensor(40, shape=(), dtype=int64)\n",
      " \n",
      "Batches for testing --> tf.Tensor(15, shape=(), dtype=int64)\n"
     ]
    }
   ],
   "source": [
    "train_ds, val_ds = data('C:\\\\Users\\\\Madao\\\\Desktop\\\\spectrograms', batch_size=32, image_size=(128,128), test_size=15, validation_split=.2)"
   ]
  },
  {
   "cell_type": "code",
   "execution_count": null,
   "metadata": {},
   "outputs": [],
   "source": []
  }
 ],
 "metadata": {
  "kernelspec": {
   "display_name": "Python 3.6.8 64-bit",
   "language": "python",
   "name": "python3"
  },
  "language_info": {
   "codemirror_mode": {
    "name": "ipython",
    "version": 3
   },
   "file_extension": ".py",
   "mimetype": "text/x-python",
   "name": "python",
   "nbconvert_exporter": "python",
   "pygments_lexer": "ipython3",
   "version": "3.6.8"
  },
  "orig_nbformat": 4,
  "vscode": {
   "interpreter": {
    "hash": "911787ed98255efa09ccfca05f44d6d3427ad539b86aeedb320d612443d3af57"
   }
  }
 },
 "nbformat": 4,
 "nbformat_minor": 2
}
